{
 "cells": [
  {
   "cell_type": "markdown",
   "metadata": {},
   "source": [
    "# Exercícios\n",
    "## Aula 11"
   ]
  },
  {
   "cell_type": "markdown",
   "metadata": {},
   "source": [
    "1. A sua pasta contém imagens nomeadas `building.png` e `planet.jpg`. Carregue-as na memória. Remova o canal de transparência (alfa, canal 3) caso necessário."
   ]
  },
  {
   "cell_type": "code",
   "execution_count": null,
   "metadata": {},
   "outputs": [],
   "source": []
  },
  {
   "cell_type": "markdown",
   "metadata": {},
   "source": [
    "2. Realize um `blending` entre estas imagens, com um coeficiente igual a `0.8` para `building`. Mostre o resultado na tela."
   ]
  },
  {
   "cell_type": "code",
   "execution_count": null,
   "metadata": {},
   "outputs": [],
   "source": []
  },
  {
   "cell_type": "markdown",
   "metadata": {},
   "source": [
    "3. Converta a imagem gerada no exercício 2 para escala de cinza. Utilize o método de sua preferência. Mostre o resultado.\n",
    "\n",
    "```python\n",
    "lightness = (min(r, g, b) + max(r, g, b)) / 2\n",
    "average = (r + g + b) / 3\n",
    "luminosity = 0.2126 * r + 0.7152 * g + 0.0722 * b```"
   ]
  },
  {
   "cell_type": "code",
   "execution_count": null,
   "metadata": {},
   "outputs": [],
   "source": []
  },
  {
   "cell_type": "markdown",
   "metadata": {},
   "source": [
    "4. Faça o histograma da imagem gerada no exercício 3 e exiba-o."
   ]
  },
  {
   "cell_type": "code",
   "execution_count": null,
   "metadata": {},
   "outputs": [],
   "source": []
  },
  {
   "cell_type": "markdown",
   "metadata": {},
   "source": [
    "5. Faça detecção de bordas na imagem gerada no exercício 4 utilizando o método diferencial (isto é, utilizando `np.diff`) e mostre o resultado. Utilize um `threshold` de `24`."
   ]
  },
  {
   "cell_type": "code",
   "execution_count": null,
   "metadata": {},
   "outputs": [],
   "source": []
  },
  {
   "cell_type": "markdown",
   "metadata": {},
   "source": [
    "6. Utilize a imagem gerada no exercício 5 como máscara na imagem `gradient.png` que se encontra na sua pasta."
   ]
  },
  {
   "cell_type": "code",
   "execution_count": null,
   "metadata": {},
   "outputs": [],
   "source": []
  },
  {
   "cell_type": "markdown",
   "metadata": {},
   "source": [
    "7. Aplique uma rotação de 30° na imagem com interpolação, utilizando o centro como referência.\n",
    "\n",
    "$$\\begin{pmatrix}\n",
    "  x' \\\\ y'\n",
    "\\end{pmatrix} = \\begin{pmatrix}\n",
    "  \\cos\\alpha & \\sin\\alpha \\\\ -\\sin\\alpha & \\cos\\alpha\n",
    "\\end{pmatrix} \\cdot \\begin{pmatrix}\n",
    "  x \\\\ y\n",
    "\\end{pmatrix}$$"
   ]
  },
  {
   "cell_type": "code",
   "execution_count": null,
   "metadata": {},
   "outputs": [],
   "source": []
  },
  {
   "cell_type": "markdown",
   "metadata": {},
   "source": [
    "8. Converta para o espaço de cores CMY. Salve o resultado no disco como `result.png`."
   ]
  },
  {
   "cell_type": "code",
   "execution_count": null,
   "metadata": {},
   "outputs": [],
   "source": []
  },
  {
   "cell_type": "markdown",
   "metadata": {},
   "source": [
    "Aula remota, conforme Port. 345/2020 – MEC"
   ]
  }
 ],
 "metadata": {
  "kernelspec": {
   "display_name": "Python 3",
   "language": "python",
   "name": "python3"
  },
  "language_info": {
   "codemirror_mode": {
    "name": "ipython",
    "version": 3
   },
   "file_extension": ".py",
   "mimetype": "text/x-python",
   "name": "python",
   "nbconvert_exporter": "python",
   "pygments_lexer": "ipython3",
   "version": "3.8.5"
  }
 },
 "nbformat": 4,
 "nbformat_minor": 4
}
